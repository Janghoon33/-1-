{
 "cells": [
  {
   "cell_type": "markdown",
   "id": "439e052e",
   "metadata": {},
   "source": [
    "# 수집 - 관상어 이름, 특징"
   ]
  },
  {
   "cell_type": "code",
   "execution_count": 3,
   "id": "c459dbd4",
   "metadata": {
    "collapsed": true
   },
   "outputs": [
    {
     "name": "stdout",
     "output_type": "stream",
     "text": [
      "Requirement already satisfied: selenium in c:\\users\\smhrd\\anaconda3\\lib\\site-packages (4.1.3)\n",
      "Requirement already satisfied: trio~=0.17 in c:\\users\\smhrd\\anaconda3\\lib\\site-packages (from selenium) (0.20.0)\n",
      "Requirement already satisfied: urllib3[secure,socks]~=1.26 in c:\\users\\smhrd\\anaconda3\\lib\\site-packages (from selenium) (1.26.7)\n",
      "Requirement already satisfied: trio-websocket~=0.9 in c:\\users\\smhrd\\anaconda3\\lib\\site-packages (from selenium) (0.9.2)\n",
      "Requirement already satisfied: sniffio in c:\\users\\smhrd\\anaconda3\\lib\\site-packages (from trio~=0.17->selenium) (1.2.0)\n",
      "Requirement already satisfied: idna in c:\\users\\smhrd\\anaconda3\\lib\\site-packages (from trio~=0.17->selenium) (3.2)\n",
      "Requirement already satisfied: async-generator>=1.9 in c:\\users\\smhrd\\anaconda3\\lib\\site-packages (from trio~=0.17->selenium) (1.10)\n",
      "Requirement already satisfied: outcome in c:\\users\\smhrd\\anaconda3\\lib\\site-packages (from trio~=0.17->selenium) (1.1.0)\n",
      "Requirement already satisfied: sortedcontainers in c:\\users\\smhrd\\anaconda3\\lib\\site-packages (from trio~=0.17->selenium) (2.4.0)\n",
      "Requirement already satisfied: cffi>=1.14 in c:\\users\\smhrd\\anaconda3\\lib\\site-packages (from trio~=0.17->selenium) (1.14.6)\n",
      "Requirement already satisfied: attrs>=19.2.0 in c:\\users\\smhrd\\anaconda3\\lib\\site-packages (from trio~=0.17->selenium) (21.2.0)\n",
      "Requirement already satisfied: pycparser in c:\\users\\smhrd\\anaconda3\\lib\\site-packages (from cffi>=1.14->trio~=0.17->selenium) (2.20)\n",
      "Requirement already satisfied: wsproto>=0.14 in c:\\users\\smhrd\\anaconda3\\lib\\site-packages (from trio-websocket~=0.9->selenium) (1.1.0)\n",
      "Requirement already satisfied: pyOpenSSL>=0.14 in c:\\users\\smhrd\\anaconda3\\lib\\site-packages (from urllib3[secure,socks]~=1.26->selenium) (21.0.0)\n",
      "Requirement already satisfied: cryptography>=1.3.4 in c:\\users\\smhrd\\anaconda3\\lib\\site-packages (from urllib3[secure,socks]~=1.26->selenium) (3.4.8)\n",
      "Requirement already satisfied: certifi in c:\\users\\smhrd\\anaconda3\\lib\\site-packages (from urllib3[secure,socks]~=1.26->selenium) (2021.10.8)\n",
      "Requirement already satisfied: PySocks!=1.5.7,<2.0,>=1.5.6 in c:\\users\\smhrd\\anaconda3\\lib\\site-packages (from urllib3[secure,socks]~=1.26->selenium) (1.7.1)\n",
      "Requirement already satisfied: six>=1.5.2 in c:\\users\\smhrd\\anaconda3\\lib\\site-packages (from pyOpenSSL>=0.14->urllib3[secure,socks]~=1.26->selenium) (1.16.0)\n",
      "Requirement already satisfied: h11<1,>=0.9.0 in c:\\users\\smhrd\\anaconda3\\lib\\site-packages (from wsproto>=0.14->trio-websocket~=0.9->selenium) (0.13.0)\n"
     ]
    }
   ],
   "source": [
    "!pip install selenium"
   ]
  },
  {
   "cell_type": "code",
   "execution_count": 1,
   "id": "e13e1785",
   "metadata": {},
   "outputs": [],
   "source": [
    "import pandas as pd\n",
    "from bs4 import BeautifulSoup as bs"
   ]
  },
  {
   "cell_type": "code",
   "execution_count": 2,
   "id": "541a7fa2",
   "metadata": {},
   "outputs": [],
   "source": []
  },
  {
   "cell_type": "code",
   "execution_count": 29,
   "id": "b5e4b0ac",
   "metadata": {},
   "outputs": [
    {
     "name": "stderr",
     "output_type": "stream",
     "text": [
      "C:\\Users\\smhrd\\AppData\\Local\\Temp/ipykernel_3112/215028825.py:1: DeprecationWarning: find_element_by_css_selector is deprecated. Please use find_element(by=By.CSS_SELECTOR, value=css_selector) instead\n",
      "  search = driver.find_element_by_css_selector(\"input[data-v-3ec7040d]\")\n"
     ]
    }
   ],
   "source": [
    "# 구피\n"
   ]
  },
  {
   "cell_type": "code",
   "execution_count": 30,
   "id": "1b10e776",
   "metadata": {},
   "outputs": [],
   "source": [
    "# 검색\n"
   ]
  },
  {
   "cell_type": "code",
   "execution_count": 32,
   "id": "2493c6b6",
   "metadata": {},
   "outputs": [
    {
     "name": "stderr",
     "output_type": "stream",
     "text": [
      "C:\\Users\\smhrd\\AppData\\Local\\Temp/ipykernel_3112/2870933604.py:2: DeprecationWarning: find_elements_by_css_selector is deprecated. Please use find_elements(by=By.CSS_SELECTOR, value=css_selector) instead\n",
      "  name = driver.find_elements_by_css_selector(\"h1 > a\")\n"
     ]
    }
   ],
   "source": [
    "# 수집\n"
   ]
  },
  {
   "cell_type": "code",
   "execution_count": 49,
   "id": "f2632310",
   "metadata": {},
   "outputs": [
    {
     "name": "stderr",
     "output_type": "stream",
     "text": [
      "C:\\Users\\smhrd\\AppData\\Local\\Temp/ipykernel_3112/2287092637.py:1: DeprecationWarning: find_elements_by_css_selector is deprecated. Please use find_elements(by=By.CSS_SELECTOR, value=css_selector) instead\n",
      "  feature = driver.find_elements_by_css_selector(\"div.fuQ21My6\")\n"
     ]
    }
   ],
   "source": []
  },
  {
   "cell_type": "code",
   "execution_count": 69,
   "id": "16f8af1e",
   "metadata": {
    "collapsed": true
   },
   "outputs": [
    {
     "data": {
      "text/plain": [
       "\"몸길이 3~4cm의 난태생송사리과[1]의 기수성 열대어. 그리고 2010년대 금붕어를 대체하는 가정 내 수조의 주인공으로서 특히 주부층에게 많은 사랑을 받고 있다. 영어 발음은 '거피'인데 어째서인지 한국에서는 구피로 불린다. 일본에서도 '거'가 아닌 '구'(グッピー)로 발음한다.\\n\\n일명 '물생활의 시작[2], 그리고 끝.' 열대어는 구피로 시작해서 구피로 끝난다는 말이 있을 정도로 초보와 애호가들에게 전 세계적으로 엄청난 사랑을 받고 있다.\\n\\n열대어(관상어)의 왕이라고 하면, 디스커스, 엔젤을 먼저 떠올리는 사람들도 있지만, 사실 대중성까지 고려한다면 단연코 구피야말로 열대어의 왕이라 할 만하다. 구피는 현재 전 세계에서 가장 대중적인 관상어이며, 낮은 가격의 팬시구피부터[3] 엄청난 가격대를 형성하는 고급품종까지 다양한 품종이 브리딩되고 있다.\\n\\n관상어를 키우는 사람 중 구피를 한 번도 키워보지 않은 사람은 없다고 할 수 있을 정도로 모든 관상어 애호가들이 거쳐 가는 어종이다.사실상 가장 고통받는 어종... 그 말은 많은 관상어 애호가들이 한번 키워보고 마는 어종이라고도 생각할 수 있다.\\n\\n그 이유는 여러 가지인데, 첫 번째로는 아래에 서술되었듯이 엄청난 번식력 때문에 개체 수 유지에 계속 신경 써줘야 하기 때문이다. 다른 어종들은 사육자가 특별히 신경써주지 않는 한 번식에 성공하기 어려운 편인데, 구피는 사육자가 번식을 막을 방법이 없다고 표현하는 게 맞을 정도로 번식이 쉽다. 이 때문에 어느 물생활 커뮤니티를 가도 구피 분양 글은 무조건 있다. 어떤 사람들은 근처 연못에 방류하거나[4] 심지어는 그냥 변기에 내려버린다고 할 정도.[5] 잘 모르고 구피 몇 마리 데려왔다가 수가 엄청나게 불어나서 당황하는 초보자들이 매우 많다.\\n\\n두 번째로는 구피 특유의 무정형적인 움직임이다. 구피는 하스타투스, 테트라 등 다른 군영어종들과는 달리 한 개체가 독립적으로 움직인다. 좋게 말하자면 활발하고, 나쁘게 말하면 정신없이 움직인다. 수컷은 종일 암컷의 뒤꽁무니를 쫓아다니며, 그렇지 않을 때는 아무런 목적도 방향성도 없이 여기저기를 쏘다니거나, 사육자가 가까이 오면 먹이를 기다리기 위해 수조 앞쪽에 몰려와서 헤엄친다. 사육자가 평소 먹이를 손이나 작은 스푼 등으로 직접 뿌려주었다면 먹이를 주는 동작을 취할 때 구피들이 사육자의 손을 따라오기도 한다.\\n\\n때문에 물고기 수가 늘어날수록 군영과 조화를 보여주며 관상적 가치가 급상승하는 군영어종과는 달리, 구피는 물고기 수가 늘어날수록 관상적 가치가 급하락한다. 샵에서 보여주는 우아한 사진을 보고 샵에 갔는데 웬 시장통이 눈앞에 펼쳐져 있을 수도 있다는 뜻이다. 많은 사람들이 상상하는 '유려하게 헤엄치는 아름다운 관상어' 로서의 구피의 모습을 보고싶다면 반드시 소수의 개체를 유지해야 한다. 구피는 애당초 군영이 아닌 개체개체마다의 아름다움에 중점을 두고 개량되었으므로 어쩔 수 없는 문제이다.\""
      ]
     },
     "execution_count": 69,
     "metadata": {},
     "output_type": "execute_result"
    }
   ],
   "source": [
    "feature[0].text"
   ]
  },
  {
   "cell_type": "code",
   "execution_count": 4,
   "id": "4b008a05",
   "metadata": {},
   "outputs": [
    {
     "data": {
      "text/plain": [
       "'골든바브'"
      ]
     },
     "execution_count": 4,
     "metadata": {},
     "output_type": "execute_result"
    }
   ],
   "source": [
    "fish.index[0]"
   ]
  },
  {
   "cell_type": "code",
   "execution_count": 5,
   "id": "285f4952",
   "metadata": {},
   "outputs": [
    {
     "data": {
      "text/plain": [
       "32"
      ]
     },
     "execution_count": 5,
     "metadata": {},
     "output_type": "execute_result"
    }
   ],
   "source": [
    "len(fish)"
   ]
  },
  {
   "cell_type": "code",
   "execution_count": null,
   "id": "49965c9a",
   "metadata": {},
   "outputs": [],
   "source": [
    "fish = pd.read_csv('fish_name_2.csv',\n",
    "                      encoding='euc-kr',index_col='관상어 목록')"
   ]
  },
  {
   "cell_type": "code",
   "execution_count": 18,
   "id": "9d973cdc",
   "metadata": {
    "collapsed": true
   },
   "outputs": [
    {
     "name": "stderr",
     "output_type": "stream",
     "text": [
      "C:\\Users\\smhrd\\AppData\\Local\\Temp/ipykernel_17008/1026846326.py:13: TqdmDeprecationWarning: This function will be removed in tqdm==5.0.0\n",
      "Please use `tqdm.notebook.tqdm` instead of `tqdm.tqdm_notebook`\n",
      "  for i in tq(range(len(fish))) :\n"
     ]
    },
    {
     "data": {
      "application/vnd.jupyter.widget-view+json": {
       "model_id": "53274fa427ff4c9eae04105b1576a99e",
       "version_major": 2,
       "version_minor": 0
      },
      "text/plain": [
       "  0%|          | 0/32 [00:00<?, ?it/s]"
      ]
     },
     "metadata": {},
     "output_type": "display_data"
    },
    {
     "name": "stderr",
     "output_type": "stream",
     "text": [
      "C:\\Users\\smhrd\\AppData\\Local\\Temp/ipykernel_17008/1026846326.py:15: DeprecationWarning: find_element_by_css_selector is deprecated. Please use find_element(by=By.CSS_SELECTOR, value=css_selector) instead\n",
      "  btn = driver.find_element_by_css_selector(\"div > form > div > input\")\n",
      "C:\\Users\\smhrd\\AppData\\Local\\Temp/ipykernel_17008/1026846326.py:21: DeprecationWarning: find_element_by_css_selector is deprecated. Please use find_element(by=By.CSS_SELECTOR, value=css_selector) instead\n",
      "  btn1 = driver.find_element_by_css_selector(\"div > a > span.searchmatch\")\n",
      "C:\\Users\\smhrd\\AppData\\Local\\Temp/ipykernel_17008/1026846326.py:24: DeprecationWarning: find_element_by_* commands are deprecated. Please use find_element() instead\n",
      "  name = driver.find_element_by_id(\"firstHeading\")\n",
      "C:\\Users\\smhrd\\AppData\\Local\\Temp/ipykernel_17008/1026846326.py:28: DeprecationWarning: find_element_by_css_selector is deprecated. Please use find_element(by=By.CSS_SELECTOR, value=css_selector) instead\n",
      "  ft = driver.find_element_by_css_selector(\"div > div.mw-parser-output >  p~p \")\n",
      "C:\\Users\\smhrd\\AppData\\Local\\Temp/ipykernel_17008/1026846326.py:33: DeprecationWarning: find_element_by_css_selector is deprecated. Please use find_element(by=By.CSS_SELECTOR, value=css_selector) instead\n",
      "  ft = driver.find_element_by_css_selector(\"div > div.mw-parser-output >  p~p~p \")\n",
      "C:\\Users\\smhrd\\AppData\\Local\\Temp/ipykernel_17008/1026846326.py:39: DeprecationWarning: find_element_by_css_selector is deprecated. Please use find_element(by=By.CSS_SELECTOR, value=css_selector) instead\n",
      "  ft = driver.find_element_by_css_selector(\"div > div.mw-parser-output >  p~p~p~p \")\n"
     ]
    }
   ],
   "source": [
    "from selenium import webdriver as wb\n",
    "from selenium.webdriver.common.keys import Keys\n",
    "from tqdm import tqdm_notebook as tq\n",
    "import time\n",
    "\n",
    "# 물고기 수집\n",
    "\n",
    "driver = wb.Chrome()\n",
    "driver.set_window_size(1800, 1400)\n",
    "driver.get(\"https://ko.wikipedia.org/wiki/%EC%9C%84%ED%82%A4%EB%B0%B1%EA%B3%BC\")\n",
    "time.sleep(1)\n",
    "\n",
    "nameList=[]\n",
    "featureList=[]\n",
    "featureList2=[]\n",
    "featureList3=[]\n",
    "\n",
    "for i in tq(range(len(fish))) :\n",
    "    \n",
    "    btn = driver.find_element_by_css_selector(\"div > form > div > input\")\n",
    "    btn.click()\n",
    "    btn.send_keys(fish.index[i])\n",
    "    btn.send_keys(Keys.ENTER)\n",
    "    \n",
    "    time.sleep(1)\n",
    "    btn1 = driver.find_element_by_css_selector(\"div > a > span.searchmatch\")\n",
    "    btn1.click()\n",
    "    \n",
    "    name = driver.find_element_by_id(\"firstHeading\")\n",
    "    name.text\n",
    "    nameList.append(name.text)\n",
    "    \n",
    "    ft = driver.find_element_by_css_selector(\"div > div.mw-parser-output >  p~p \")\n",
    "    ft.text\n",
    "    featureList.append(ft.text)\n",
    "    time.sleep(1)\n",
    "    \n",
    "    ft = driver.find_element_by_css_selector(\"div > div.mw-parser-output >  p~p~p \")\n",
    "    ft.text\n",
    "    featureList2.append(ft.text)\n",
    "    time.sleep(1)\n",
    "    \n",
    "    try : \n",
    "        ft = driver.find_element_by_css_selector(\"div > div.mw-parser-output >  p~p~p~p \")\n",
    "        ft.text\n",
    "        featureList3.append(ft.text)\n",
    "        time.sleep(1)\n",
    "    except : \n",
    "        featureList3.append(\"\")\n",
    "        time.sleep(1)\n",
    "        \n",
    "    driver.close()\n",
    "    driver = wb.Chrome()\n",
    "    driver.set_window_size(1800, 1400)\n",
    "    driver.get(\"https://ko.wikipedia.org/wiki/%EC%9C%84%ED%82%A4%EB%B0%B1%EA%B3%BC\")\n",
    "    time.sleep(1)\n",
    "    #i += 1\n",
    "    \n",
    "    \n",
    "fish_info = {\"관상어 이름\" : nameList, \"특징\" : featureList, \"특징2\": featureList2, \"특징3\" : featureList3}"
   ]
  },
  {
   "cell_type": "code",
   "execution_count": null,
   "id": "f6aaab46",
   "metadata": {},
   "outputs": [],
   "source": [
    "crw_fish = pd.DataFrame(fish_info)\n",
    "crw_fish\n",
    "crw_fish.to_csv(\"crw_fish3.csv\",encoding=\"euc-kr\")"
   ]
  },
  {
   "cell_type": "code",
   "execution_count": 110,
   "id": "7536dad8",
   "metadata": {
    "collapsed": true
   },
   "outputs": [
    {
     "name": "stderr",
     "output_type": "stream",
     "text": [
      "C:\\Users\\smhrd\\AppData\\Local\\Temp/ipykernel_13516/1697882719.py:4: DeprecationWarning: find_element_by_* commands are deprecated. Please use find_element() instead\n",
      "  search = driver.find_element_by_id(\"term_query\")\n",
      "C:\\Users\\smhrd\\AppData\\Local\\Temp/ipykernel_13516/1697882719.py:9: DeprecationWarning: find_element_by_css_selector is deprecated. Please use find_element(by=By.CSS_SELECTOR, value=css_selector) instead\n",
      "  btn = driver.find_element_by_css_selector(\"div > div > strong.title > a\")\n",
      "C:\\Users\\smhrd\\AppData\\Local\\Temp/ipykernel_13516/1697882719.py:12: DeprecationWarning: find_element_by_css_selector is deprecated. Please use find_element(by=By.CSS_SELECTOR, value=css_selector) instead\n",
      "  name = driver.find_element_by_css_selector(\"div > h2.headword\")\n",
      "C:\\Users\\smhrd\\AppData\\Local\\Temp/ipykernel_13516/1697882719.py:15: DeprecationWarning: find_elements_by_css_selector is deprecated. Please use find_elements(by=By.CSS_SELECTOR, value=css_selector) instead\n",
      "  ft = driver.find_elements_by_css_selector(\"div > p.txt\")\n"
     ]
    },
    {
     "data": {
      "text/plain": [
       "'한국, 일본, 중국에 분포하고 있으며, 흐르지 않는 연못, 저수지, 늪지에 주로 서식한다. 물이 탁하고 바닥이 뻘로 되어 있는, 물풀이 많은 곳을 좋아한다. 가물치는 아가미로만 호흡하는 다른 물고기들과는 달리, 공기 호흡을 할 수 있는 보조 호흡 기관을 가지고 있기 때문에, 수온이 높아 산소가 부족한 곳이나, 부패하여 악취가 날 정도의 물 속에서도 정상적인 생활을 할 수 있다. 수온 0℃~30℃에서 서식이 가능하다.'"
      ]
     },
     "execution_count": 110,
     "metadata": {},
     "output_type": "execute_result"
    }
   ],
   "source": [
    "# driver = wb.Chrome()\n",
    "# driver.get(\"https://ko.wikipedia.org/wiki/%EC%9C%84%ED%82%A4%EB%B0%B1%EA%B3%BC\")\n",
    "# time.sleep(1)\n",
    "\n",
    "# search = driver.find_element_by_css_selector(\"div > input.search\")\n",
    "# search.send_keys(fish.index[i])\n",
    "# search.send_keys(Keys.ENTER)\n",
    "# time.sleep(1)\n",
    "\n",
    "# btn = driver.find_element_by_css_selector(\"div > div > strong.title > a\")\n",
    "# btn.click()\n",
    "\n",
    "# name = driver.find_element_by_css_selector(\"div > h2.headword\")\n",
    "# name.text\n",
    "\n",
    "# ft = driver.find_elements_by_css_selector(\"div > p.txt\")\n",
    "# ft[1].text"
   ]
  },
  {
   "cell_type": "code",
   "execution_count": 208,
   "id": "e45ae5ff",
   "metadata": {
    "collapsed": true
   },
   "outputs": [
    {
     "name": "stderr",
     "output_type": "stream",
     "text": [
      "C:\\Users\\smhrd\\AppData\\Local\\Temp/ipykernel_13516/1961867931.py:5: DeprecationWarning: find_element_by_css_selector is deprecated. Please use find_element(by=By.CSS_SELECTOR, value=css_selector) instead\n",
      "  btn = driver.find_element_by_css_selector(\"div > form > div > input\")\n",
      "C:\\Users\\smhrd\\AppData\\Local\\Temp/ipykernel_13516/1961867931.py:11: DeprecationWarning: find_element_by_css_selector is deprecated. Please use find_element(by=By.CSS_SELECTOR, value=css_selector) instead\n",
      "  btn1 = driver.find_element_by_css_selector(\"div > a > span.searchmatch\")\n",
      "C:\\Users\\smhrd\\AppData\\Local\\Temp/ipykernel_13516/1961867931.py:14: DeprecationWarning: find_element_by_* commands are deprecated. Please use find_element() instead\n",
      "  name = driver.find_element_by_id(\"firstHeading\")\n",
      "C:\\Users\\smhrd\\AppData\\Local\\Temp/ipykernel_13516/1961867931.py:17: DeprecationWarning: find_element_by_css_selector is deprecated. Please use find_element(by=By.CSS_SELECTOR, value=css_selector) instead\n",
      "  ft = driver.find_element_by_css_selector(\"div > div.mw-parser-output >  p~p \")\n"
     ]
    },
    {
     "data": {
      "text/plain": [
       "'골든트레블리는 매우 아름다운 색을 가진 물고기로서 배부분과 지느러미가 아름다운 노란색을 가진 물고기이다. 검은색의 줄무늬도 가지고 있으며 성어가 되면 청록색도 같이 추가가 되는 물고기이다. 골든트레블리는 전갱이과의 어류 중에서 가장 아름다운 몸을 가지고 있기 때문에 바닷물고기 중에선 관상어로도 인기가 있고 아쿠아리움에서도 전시가 되는 물고기이며 또한 군영을 이루며 다니는 것이 매우 아름다운 물고기 중에 하나이다. 먹이로는 멸치, 청어, 정어리와 같은 작은물고기와 오징어와 같은 두족류, 새우와 같은 갑각류를 먹는 육식성 물고기이다.'"
      ]
     },
     "execution_count": 208,
     "metadata": {},
     "output_type": "execute_result"
    }
   ],
   "source": [
    "# driver = wb.Chrome()\n",
    "# driver.set_window_size(1800, 1400)\n",
    "# driver.get(\"https://ko.wikipedia.org/wiki/%EC%9C%84%ED%82%A4%EB%B0%B1%EA%B3%BC\")\n",
    "# time.sleep(1)\n",
    "# btn = driver.find_element_by_css_selector(\"div > form > div > input\")\n",
    "# btn.click()\n",
    "# btn.send_keys(fish.index[i])\n",
    "# btn.send_keys(Keys.ENTER)\n",
    "# time.sleep(1)\n",
    "\n",
    "# btn1 = driver.find_element_by_css_selector(\"div > a > span.searchmatch\")\n",
    "# btn1.click()\n",
    "\n",
    "# name = driver.find_element_by_id(\"firstHeading\")\n",
    "# name.text\n",
    "\n",
    "# ft = driver.find_element_by_css_selector(\"div > div.mw-parser-output >  p~p \")\n",
    "# ft.text"
   ]
  },
  {
   "cell_type": "code",
   "execution_count": 19,
   "id": "9cd6c3e8",
   "metadata": {},
   "outputs": [],
   "source": []
  },
  {
   "cell_type": "code",
   "execution_count": null,
   "id": "1520d387",
   "metadata": {},
   "outputs": [],
   "source": []
  }
 ],
 "metadata": {
  "kernelspec": {
   "display_name": "Python 3 (ipykernel)",
   "language": "python",
   "name": "python3"
  },
  "language_info": {
   "codemirror_mode": {
    "name": "ipython",
    "version": 3
   },
   "file_extension": ".py",
   "mimetype": "text/x-python",
   "name": "python",
   "nbconvert_exporter": "python",
   "pygments_lexer": "ipython3",
   "version": "3.9.7"
  }
 },
 "nbformat": 4,
 "nbformat_minor": 5
}
