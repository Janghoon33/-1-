{
 "cells": [
  {
   "cell_type": "code",
   "execution_count": 2,
   "id": "9c2432f0",
   "metadata": {},
   "outputs": [],
   "source": [
    "from selenium import webdriver as wb\n",
    "import time\n",
    "import pandas as pd"
   ]
  },
  {
   "cell_type": "code",
   "execution_count": 4,
   "id": "23067a65",
   "metadata": {},
   "outputs": [],
   "source": [
    "# 1. 크롬브라우저를 실행\n",
    "# 1.1 페이지 이동(https://www.hsd.co.kr/menu/menu_list)\n",
    "driver = wb.Chrome()\n",
    "driver.get(\"https://www.hsd.co.kr/menu/menu_list\")"
   ]
  },
  {
   "cell_type": "code",
   "execution_count": 19,
   "id": "0bb89404",
   "metadata": {},
   "outputs": [
    {
     "name": "stderr",
     "output_type": "stream",
     "text": [
      "C:\\Users\\smhrd\\AppData\\Local\\Temp/ipykernel_13396/1269934108.py:2: DeprecationWarning: find_elements_by_css_selector is deprecated. Please use find_elements(by=By.CSS_SELECTOR, value=css_selector) instead\n",
      "  title = driver.find_elements_by_css_selector(\"h4.h.fz_03\")\n"
     ]
    }
   ],
   "source": [
    "# 2. 메뉴의 이름 정보를 수집\n",
    "title = driver.find_elements_by_css_selector(\"h4.h.fz_03\")"
   ]
  },
  {
   "cell_type": "code",
   "execution_count": 20,
   "id": "35fdd485",
   "metadata": {},
   "outputs": [
    {
     "name": "stderr",
     "output_type": "stream",
     "text": [
      "C:\\Users\\smhrd\\AppData\\Local\\Temp/ipykernel_13396/3647108233.py:2: DeprecationWarning: find_elements_by_css_selector is deprecated. Please use find_elements(by=By.CSS_SELECTOR, value=css_selector) instead\n",
      "  price = driver.find_elements_by_css_selector(\"div > div.item-text > div > strong\")\n"
     ]
    }
   ],
   "source": [
    "# 3. 메뉴의 가격 정보를 수집\n",
    "price = driver.find_elements_by_css_selector(\"div > div.item-text > div > strong\")"
   ]
  },
  {
   "cell_type": "code",
   "execution_count": 5,
   "id": "67868fd5",
   "metadata": {},
   "outputs": [
    {
     "data": {
      "text/plain": [
       "'1,200'"
      ]
     },
     "execution_count": 5,
     "metadata": {},
     "output_type": "execute_result"
    }
   ],
   "source": [
    "price[2].text"
   ]
  },
  {
   "cell_type": "code",
   "execution_count": 22,
   "id": "07ed0e3f",
   "metadata": {},
   "outputs": [
    {
     "data": {
      "text/plain": [
       "93"
      ]
     },
     "execution_count": 22,
     "metadata": {},
     "output_type": "execute_result"
    }
   ],
   "source": [
    "# 4. 데이터의 개수가 같은지 확인\n",
    "len(title)"
   ]
  },
  {
   "cell_type": "code",
   "execution_count": 15,
   "id": "82649181",
   "metadata": {},
   "outputs": [
    {
     "name": "stderr",
     "output_type": "stream",
     "text": [
      "C:\\Users\\smhrd\\AppData\\Local\\Temp/ipykernel_13396/1368685084.py:2: DeprecationWarning: find_element_by_css_selector is deprecated. Please use find_element(by=By.CSS_SELECTOR, value=css_selector) instead\n",
      "  btn = driver.find_element_by_css_selector(\"a.c_05\")\n"
     ]
    }
   ],
   "source": [
    "# 더보기 버튼을 클릭\n",
    "btn = driver.find_element_by_css_selector(\"a.c_05\")\n",
    "btn.click()"
   ]
  },
  {
   "cell_type": "code",
   "execution_count": 16,
   "id": "21ae1068",
   "metadata": {
    "collapsed": true
   },
   "outputs": [
    {
     "name": "stderr",
     "output_type": "stream",
     "text": [
      "C:\\Users\\smhrd\\AppData\\Local\\Temp/ipykernel_13396/1957248315.py:3: DeprecationWarning: find_element_by_css_selector is deprecated. Please use find_element(by=By.CSS_SELECTOR, value=css_selector) instead\n",
      "  btn = driver.find_element_by_css_selector(\"a.c_05\")\n"
     ]
    },
    {
     "ename": "ElementNotInteractableException",
     "evalue": "Message: element not interactable\n  (Session info: chrome=100.0.4896.127)\nStacktrace:\nBacktrace:\n\tOrdinal0 [0x002D7413+2389011]\n\tOrdinal0 [0x00269F61+1941345]\n\tOrdinal0 [0x0015C520+836896]\n\tOrdinal0 [0x0018A1F3+1024499]\n\tOrdinal0 [0x0017FF93+982931]\n\tOrdinal0 [0x001A414C+1130828]\n\tOrdinal0 [0x0017F974+981364]\n\tOrdinal0 [0x001A4364+1131364]\n\tOrdinal0 [0x001B4302+1196802]\n\tOrdinal0 [0x001A3F66+1130342]\n\tOrdinal0 [0x0017E546+976198]\n\tOrdinal0 [0x0017F456+980054]\n\tGetHandleVerifier [0x00489632+1727522]\n\tGetHandleVerifier [0x0053BA4D+2457661]\n\tGetHandleVerifier [0x0036EB81+569713]\n\tGetHandleVerifier [0x0036DD76+566118]\n\tOrdinal0 [0x00270B2B+1968939]\n\tOrdinal0 [0x00275988+1989000]\n\tOrdinal0 [0x00275A75+1989237]\n\tOrdinal0 [0x0027ECB1+2026673]\n\tBaseThreadInitThunk [0x76EBFA29+25]\n\tRtlGetAppContainerNamedObjectPath [0x77567A7E+286]\n\tRtlGetAppContainerNamedObjectPath [0x77567A4E+238]\n\t(No symbol) [0x00000000]\n",
     "output_type": "error",
     "traceback": [
      "\u001b[1;31m---------------------------------------------------------------------------\u001b[0m",
      "\u001b[1;31mElementNotInteractableException\u001b[0m           Traceback (most recent call last)",
      "\u001b[1;32m~\\AppData\\Local\\Temp/ipykernel_13396/1957248315.py\u001b[0m in \u001b[0;36m<module>\u001b[1;34m\u001b[0m\n\u001b[0;32m      2\u001b[0m \u001b[1;32mfor\u001b[0m \u001b[0mi\u001b[0m \u001b[1;32min\u001b[0m \u001b[0mrange\u001b[0m\u001b[1;33m(\u001b[0m\u001b[1;36m30\u001b[0m\u001b[1;33m)\u001b[0m \u001b[1;33m:\u001b[0m\u001b[1;33m\u001b[0m\u001b[1;33m\u001b[0m\u001b[0m\n\u001b[0;32m      3\u001b[0m     \u001b[0mbtn\u001b[0m \u001b[1;33m=\u001b[0m \u001b[0mdriver\u001b[0m\u001b[1;33m.\u001b[0m\u001b[0mfind_element_by_css_selector\u001b[0m\u001b[1;33m(\u001b[0m\u001b[1;34m\"a.c_05\"\u001b[0m\u001b[1;33m)\u001b[0m\u001b[1;33m\u001b[0m\u001b[1;33m\u001b[0m\u001b[0m\n\u001b[1;32m----> 4\u001b[1;33m     \u001b[0mbtn\u001b[0m\u001b[1;33m.\u001b[0m\u001b[0mclick\u001b[0m\u001b[1;33m(\u001b[0m\u001b[1;33m)\u001b[0m\u001b[1;33m\u001b[0m\u001b[1;33m\u001b[0m\u001b[0m\n\u001b[0m\u001b[0;32m      5\u001b[0m     \u001b[0mtime\u001b[0m\u001b[1;33m.\u001b[0m\u001b[0msleep\u001b[0m\u001b[1;33m(\u001b[0m\u001b[1;36m1\u001b[0m\u001b[1;33m)\u001b[0m\u001b[1;33m\u001b[0m\u001b[1;33m\u001b[0m\u001b[0m\n",
      "\u001b[1;32m~\\anaconda3\\lib\\site-packages\\selenium\\webdriver\\remote\\webelement.py\u001b[0m in \u001b[0;36mclick\u001b[1;34m(self)\u001b[0m\n\u001b[0;32m     79\u001b[0m     \u001b[1;32mdef\u001b[0m \u001b[0mclick\u001b[0m\u001b[1;33m(\u001b[0m\u001b[0mself\u001b[0m\u001b[1;33m)\u001b[0m \u001b[1;33m->\u001b[0m \u001b[1;32mNone\u001b[0m\u001b[1;33m:\u001b[0m\u001b[1;33m\u001b[0m\u001b[1;33m\u001b[0m\u001b[0m\n\u001b[0;32m     80\u001b[0m         \u001b[1;34m\"\"\"Clicks the element.\"\"\"\u001b[0m\u001b[1;33m\u001b[0m\u001b[1;33m\u001b[0m\u001b[0m\n\u001b[1;32m---> 81\u001b[1;33m         \u001b[0mself\u001b[0m\u001b[1;33m.\u001b[0m\u001b[0m_execute\u001b[0m\u001b[1;33m(\u001b[0m\u001b[0mCommand\u001b[0m\u001b[1;33m.\u001b[0m\u001b[0mCLICK_ELEMENT\u001b[0m\u001b[1;33m)\u001b[0m\u001b[1;33m\u001b[0m\u001b[1;33m\u001b[0m\u001b[0m\n\u001b[0m\u001b[0;32m     82\u001b[0m \u001b[1;33m\u001b[0m\u001b[0m\n\u001b[0;32m     83\u001b[0m     \u001b[1;32mdef\u001b[0m \u001b[0msubmit\u001b[0m\u001b[1;33m(\u001b[0m\u001b[0mself\u001b[0m\u001b[1;33m)\u001b[0m\u001b[1;33m:\u001b[0m\u001b[1;33m\u001b[0m\u001b[1;33m\u001b[0m\u001b[0m\n",
      "\u001b[1;32m~\\anaconda3\\lib\\site-packages\\selenium\\webdriver\\remote\\webelement.py\u001b[0m in \u001b[0;36m_execute\u001b[1;34m(self, command, params)\u001b[0m\n\u001b[0;32m    708\u001b[0m             \u001b[0mparams\u001b[0m \u001b[1;33m=\u001b[0m \u001b[1;33m{\u001b[0m\u001b[1;33m}\u001b[0m\u001b[1;33m\u001b[0m\u001b[1;33m\u001b[0m\u001b[0m\n\u001b[0;32m    709\u001b[0m         \u001b[0mparams\u001b[0m\u001b[1;33m[\u001b[0m\u001b[1;34m'id'\u001b[0m\u001b[1;33m]\u001b[0m \u001b[1;33m=\u001b[0m \u001b[0mself\u001b[0m\u001b[1;33m.\u001b[0m\u001b[0m_id\u001b[0m\u001b[1;33m\u001b[0m\u001b[1;33m\u001b[0m\u001b[0m\n\u001b[1;32m--> 710\u001b[1;33m         \u001b[1;32mreturn\u001b[0m \u001b[0mself\u001b[0m\u001b[1;33m.\u001b[0m\u001b[0m_parent\u001b[0m\u001b[1;33m.\u001b[0m\u001b[0mexecute\u001b[0m\u001b[1;33m(\u001b[0m\u001b[0mcommand\u001b[0m\u001b[1;33m,\u001b[0m \u001b[0mparams\u001b[0m\u001b[1;33m)\u001b[0m\u001b[1;33m\u001b[0m\u001b[1;33m\u001b[0m\u001b[0m\n\u001b[0m\u001b[0;32m    711\u001b[0m \u001b[1;33m\u001b[0m\u001b[0m\n\u001b[0;32m    712\u001b[0m     \u001b[1;32mdef\u001b[0m \u001b[0mfind_element\u001b[0m\u001b[1;33m(\u001b[0m\u001b[0mself\u001b[0m\u001b[1;33m,\u001b[0m \u001b[0mby\u001b[0m\u001b[1;33m=\u001b[0m\u001b[0mBy\u001b[0m\u001b[1;33m.\u001b[0m\u001b[0mID\u001b[0m\u001b[1;33m,\u001b[0m \u001b[0mvalue\u001b[0m\u001b[1;33m=\u001b[0m\u001b[1;32mNone\u001b[0m\u001b[1;33m)\u001b[0m\u001b[1;33m:\u001b[0m\u001b[1;33m\u001b[0m\u001b[1;33m\u001b[0m\u001b[0m\n",
      "\u001b[1;32m~\\anaconda3\\lib\\site-packages\\selenium\\webdriver\\remote\\webdriver.py\u001b[0m in \u001b[0;36mexecute\u001b[1;34m(self, driver_command, params)\u001b[0m\n\u001b[0;32m    423\u001b[0m         \u001b[0mresponse\u001b[0m \u001b[1;33m=\u001b[0m \u001b[0mself\u001b[0m\u001b[1;33m.\u001b[0m\u001b[0mcommand_executor\u001b[0m\u001b[1;33m.\u001b[0m\u001b[0mexecute\u001b[0m\u001b[1;33m(\u001b[0m\u001b[0mdriver_command\u001b[0m\u001b[1;33m,\u001b[0m \u001b[0mparams\u001b[0m\u001b[1;33m)\u001b[0m\u001b[1;33m\u001b[0m\u001b[1;33m\u001b[0m\u001b[0m\n\u001b[0;32m    424\u001b[0m         \u001b[1;32mif\u001b[0m \u001b[0mresponse\u001b[0m\u001b[1;33m:\u001b[0m\u001b[1;33m\u001b[0m\u001b[1;33m\u001b[0m\u001b[0m\n\u001b[1;32m--> 425\u001b[1;33m             \u001b[0mself\u001b[0m\u001b[1;33m.\u001b[0m\u001b[0merror_handler\u001b[0m\u001b[1;33m.\u001b[0m\u001b[0mcheck_response\u001b[0m\u001b[1;33m(\u001b[0m\u001b[0mresponse\u001b[0m\u001b[1;33m)\u001b[0m\u001b[1;33m\u001b[0m\u001b[1;33m\u001b[0m\u001b[0m\n\u001b[0m\u001b[0;32m    426\u001b[0m             response['value'] = self._unwrap_value(\n\u001b[0;32m    427\u001b[0m                 response.get('value', None))\n",
      "\u001b[1;32m~\\anaconda3\\lib\\site-packages\\selenium\\webdriver\\remote\\errorhandler.py\u001b[0m in \u001b[0;36mcheck_response\u001b[1;34m(self, response)\u001b[0m\n\u001b[0;32m    245\u001b[0m                 \u001b[0malert_text\u001b[0m \u001b[1;33m=\u001b[0m \u001b[0mvalue\u001b[0m\u001b[1;33m[\u001b[0m\u001b[1;34m'alert'\u001b[0m\u001b[1;33m]\u001b[0m\u001b[1;33m.\u001b[0m\u001b[0mget\u001b[0m\u001b[1;33m(\u001b[0m\u001b[1;34m'text'\u001b[0m\u001b[1;33m)\u001b[0m\u001b[1;33m\u001b[0m\u001b[1;33m\u001b[0m\u001b[0m\n\u001b[0;32m    246\u001b[0m             \u001b[1;32mraise\u001b[0m \u001b[0mexception_class\u001b[0m\u001b[1;33m(\u001b[0m\u001b[0mmessage\u001b[0m\u001b[1;33m,\u001b[0m \u001b[0mscreen\u001b[0m\u001b[1;33m,\u001b[0m \u001b[0mstacktrace\u001b[0m\u001b[1;33m,\u001b[0m \u001b[0malert_text\u001b[0m\u001b[1;33m)\u001b[0m  \u001b[1;31m# type: ignore[call-arg]  # mypy is not smart enough here\u001b[0m\u001b[1;33m\u001b[0m\u001b[1;33m\u001b[0m\u001b[0m\n\u001b[1;32m--> 247\u001b[1;33m         \u001b[1;32mraise\u001b[0m \u001b[0mexception_class\u001b[0m\u001b[1;33m(\u001b[0m\u001b[0mmessage\u001b[0m\u001b[1;33m,\u001b[0m \u001b[0mscreen\u001b[0m\u001b[1;33m,\u001b[0m \u001b[0mstacktrace\u001b[0m\u001b[1;33m)\u001b[0m\u001b[1;33m\u001b[0m\u001b[1;33m\u001b[0m\u001b[0m\n\u001b[0m\u001b[0;32m    248\u001b[0m \u001b[1;33m\u001b[0m\u001b[0m\n\u001b[0;32m    249\u001b[0m     \u001b[1;32mdef\u001b[0m \u001b[0m_value_or_default\u001b[0m\u001b[1;33m(\u001b[0m\u001b[0mself\u001b[0m\u001b[1;33m,\u001b[0m \u001b[0mobj\u001b[0m\u001b[1;33m:\u001b[0m \u001b[0mMapping\u001b[0m\u001b[1;33m[\u001b[0m\u001b[0m_KT\u001b[0m\u001b[1;33m,\u001b[0m \u001b[0m_VT\u001b[0m\u001b[1;33m]\u001b[0m\u001b[1;33m,\u001b[0m \u001b[0mkey\u001b[0m\u001b[1;33m:\u001b[0m \u001b[0m_KT\u001b[0m\u001b[1;33m,\u001b[0m \u001b[0mdefault\u001b[0m\u001b[1;33m:\u001b[0m \u001b[0m_VT\u001b[0m\u001b[1;33m)\u001b[0m \u001b[1;33m->\u001b[0m \u001b[0m_VT\u001b[0m\u001b[1;33m:\u001b[0m\u001b[1;33m\u001b[0m\u001b[1;33m\u001b[0m\u001b[0m\n",
      "\u001b[1;31mElementNotInteractableException\u001b[0m: Message: element not interactable\n  (Session info: chrome=100.0.4896.127)\nStacktrace:\nBacktrace:\n\tOrdinal0 [0x002D7413+2389011]\n\tOrdinal0 [0x00269F61+1941345]\n\tOrdinal0 [0x0015C520+836896]\n\tOrdinal0 [0x0018A1F3+1024499]\n\tOrdinal0 [0x0017FF93+982931]\n\tOrdinal0 [0x001A414C+1130828]\n\tOrdinal0 [0x0017F974+981364]\n\tOrdinal0 [0x001A4364+1131364]\n\tOrdinal0 [0x001B4302+1196802]\n\tOrdinal0 [0x001A3F66+1130342]\n\tOrdinal0 [0x0017E546+976198]\n\tOrdinal0 [0x0017F456+980054]\n\tGetHandleVerifier [0x00489632+1727522]\n\tGetHandleVerifier [0x0053BA4D+2457661]\n\tGetHandleVerifier [0x0036EB81+569713]\n\tGetHandleVerifier [0x0036DD76+566118]\n\tOrdinal0 [0x00270B2B+1968939]\n\tOrdinal0 [0x00275988+1989000]\n\tOrdinal0 [0x00275A75+1989237]\n\tOrdinal0 [0x0027ECB1+2026673]\n\tBaseThreadInitThunk [0x76EBFA29+25]\n\tRtlGetAppContainerNamedObjectPath [0x77567A7E+286]\n\tRtlGetAppContainerNamedObjectPath [0x77567A4E+238]\n\t(No symbol) [0x00000000]\n"
     ]
    }
   ],
   "source": [
    "# 더보기 버튼을 반복해서 실행(for)\n",
    "for i in range(30) :\n",
    "    btn = driver.find_element_by_css_selector(\"a.c_05\")\n",
    "    btn.click()\n",
    "    time.sleep(1)"
   ]
  },
  {
   "cell_type": "markdown",
   "id": "ec67ca10",
   "metadata": {},
   "source": [
    "# 예외처리 \n",
    "## try except\n",
    "- try : 반복해서 시도할 코드를 적는 공간(오류가 나기전까지)\n",
    "- except : 오류가 발생했을때 실행할 코드를 적는 공간\n"
   ]
  },
  {
   "cell_type": "code",
   "execution_count": 18,
   "id": "a8398f9c",
   "metadata": {},
   "outputs": [
    {
     "name": "stderr",
     "output_type": "stream",
     "text": [
      "C:\\Users\\smhrd\\AppData\\Local\\Temp/ipykernel_13396/2642270275.py:4: DeprecationWarning: find_element_by_css_selector is deprecated. Please use find_element(by=By.CSS_SELECTOR, value=css_selector) instead\n",
      "  btn = driver.find_element_by_css_selector(\"a.c_05\")\n"
     ]
    },
    {
     "name": "stdout",
     "output_type": "stream",
     "text": [
      "더보기 종료\n"
     ]
    }
   ],
   "source": [
    "try : \n",
    "    # 오류가 나기 전까지 실행할 코드\n",
    "    for i in range(30) :\n",
    "        btn = driver.find_element_by_css_selector(\"a.c_05\")\n",
    "        btn.click()\n",
    "        time.sleep(1)\n",
    "except :\n",
    "    # 오류가 났을때 실행할 코드\n",
    "    print(\"더보기 종료\")"
   ]
  },
  {
   "cell_type": "code",
   "execution_count": 24,
   "id": "b1225398",
   "metadata": {},
   "outputs": [
    {
     "name": "stderr",
     "output_type": "stream",
     "text": [
      "C:\\Users\\smhrd\\AppData\\Local\\Temp/ipykernel_13396/1567232553.py:7: DeprecationWarning: find_element_by_css_selector is deprecated. Please use find_element(by=By.CSS_SELECTOR, value=css_selector) instead\n",
      "  btn = driver.find_element_by_css_selector(\"a.c_05\")\n"
     ]
    },
    {
     "name": "stdout",
     "output_type": "stream",
     "text": [
      "더보기 종료\n"
     ]
    },
    {
     "name": "stderr",
     "output_type": "stream",
     "text": [
      "C:\\Users\\smhrd\\AppData\\Local\\Temp/ipykernel_13396/1567232553.py:13: DeprecationWarning: find_elements_by_css_selector is deprecated. Please use find_elements(by=By.CSS_SELECTOR, value=css_selector) instead\n",
      "  title = driver.find_elements_by_css_selector(\"h4.h.fz_03\")\n",
      "C:\\Users\\smhrd\\AppData\\Local\\Temp/ipykernel_13396/1567232553.py:14: DeprecationWarning: find_elements_by_css_selector is deprecated. Please use find_elements(by=By.CSS_SELECTOR, value=css_selector) instead\n",
      "  price = driver.find_elements_by_css_selector(\"div > div.item-text > div > strong\")\n"
     ]
    }
   ],
   "source": [
    "driver = wb.Chrome()\n",
    "driver.get(\"https://www.hsd.co.kr/menu/menu_list\")\n",
    "time.sleep(1)\n",
    "\n",
    "try : \n",
    "    for i in range(30) :\n",
    "        btn = driver.find_element_by_css_selector(\"a.c_05\")\n",
    "        btn.click()\n",
    "        time.sleep(1)\n",
    "except :\n",
    "    print(\"더보기 종료\")\n",
    "\n",
    "title = driver.find_elements_by_css_selector(\"h4.h.fz_03\")\n",
    "price = driver.find_elements_by_css_selector(\"div > div.item-text > div > strong\")"
   ]
  },
  {
   "cell_type": "code",
   "execution_count": 33,
   "id": "6159342d",
   "metadata": {},
   "outputs": [],
   "source": [
    "# 순수한 글자정보만 담긴 리스트 제작\n",
    "titleList = []\n",
    "priceList = []\n",
    "for i in range(len(title)) : \n",
    "    titleList.append(title[i].text)\n",
    "    priceList.append(price[i].text)"
   ]
  },
  {
   "cell_type": "code",
   "execution_count": 34,
   "id": "1306b04d",
   "metadata": {},
   "outputs": [],
   "source": [
    "# 데이터프레임 제작\n",
    "# - dic형태의 데이터를 제작\n",
    "dic = {\"메뉴이름\" : titleList, \"가격\" : priceList}"
   ]
  },
  {
   "cell_type": "code",
   "execution_count": 35,
   "id": "64207f03",
   "metadata": {},
   "outputs": [],
   "source": [
    "hans = pd.DataFrame(dic)"
   ]
  },
  {
   "cell_type": "code",
   "execution_count": 39,
   "id": "c520443f",
   "metadata": {},
   "outputs": [],
   "source": [
    "# 데이터프레임을 한글이 깨지지 않게 csv파일로 저장\n",
    "hans.to_csv(\"한솥데이터.csv\",encoding=\"euc-kr\",index=False)"
   ]
  },
  {
   "cell_type": "code",
   "execution_count": null,
   "id": "181917ec",
   "metadata": {},
   "outputs": [],
   "source": []
  },
  {
   "cell_type": "code",
   "execution_count": null,
   "id": "b90da6b0",
   "metadata": {},
   "outputs": [],
   "source": []
  },
  {
   "cell_type": "code",
   "execution_count": null,
   "id": "392f96d9",
   "metadata": {},
   "outputs": [],
   "source": []
  },
  {
   "cell_type": "code",
   "execution_count": null,
   "id": "fe0890f6",
   "metadata": {},
   "outputs": [],
   "source": []
  }
 ],
 "metadata": {
  "kernelspec": {
   "display_name": "Python 3 (ipykernel)",
   "language": "python",
   "name": "python3"
  },
  "language_info": {
   "codemirror_mode": {
    "name": "ipython",
    "version": 3
   },
   "file_extension": ".py",
   "mimetype": "text/x-python",
   "name": "python",
   "nbconvert_exporter": "python",
   "pygments_lexer": "ipython3",
   "version": "3.9.7"
  }
 },
 "nbformat": 4,
 "nbformat_minor": 5
}
