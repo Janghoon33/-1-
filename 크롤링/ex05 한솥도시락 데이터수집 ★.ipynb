{
 "cells": [
  {
   "cell_type": "code",
   "execution_count": 16,
   "id": "b918ae51",
   "metadata": {
    "collapsed": true
   },
   "outputs": [
    {
     "name": "stdout",
     "output_type": "stream",
     "text": [
      "Collecting selenium==4.0.0\n",
      "  Downloading selenium-4.0.0-py3-none-any.whl (954 kB)\n",
      "Requirement already satisfied: trio~=0.17 in c:\\users\\aischool\\anaconda3\\lib\\site-packages (from selenium==4.0.0) (0.21.0)\n",
      "Requirement already satisfied: urllib3[secure]~=1.26 in c:\\users\\aischool\\anaconda3\\lib\\site-packages (from selenium==4.0.0) (1.26.9)\n",
      "Requirement already satisfied: trio-websocket~=0.9 in c:\\users\\aischool\\anaconda3\\lib\\site-packages (from selenium==4.0.0) (0.9.2)\n",
      "Requirement already satisfied: attrs>=19.2.0 in c:\\users\\aischool\\anaconda3\\lib\\site-packages (from trio~=0.17->selenium==4.0.0) (21.4.0)\n",
      "Requirement already satisfied: async-generator>=1.9 in c:\\users\\aischool\\anaconda3\\lib\\site-packages (from trio~=0.17->selenium==4.0.0) (1.10)\n",
      "Requirement already satisfied: idna in c:\\users\\aischool\\anaconda3\\lib\\site-packages (from trio~=0.17->selenium==4.0.0) (3.3)\n",
      "Requirement already satisfied: outcome in c:\\users\\aischool\\anaconda3\\lib\\site-packages (from trio~=0.17->selenium==4.0.0) (1.2.0)\n",
      "Requirement already satisfied: sniffio in c:\\users\\aischool\\anaconda3\\lib\\site-packages (from trio~=0.17->selenium==4.0.0) (1.2.0)\n",
      "Requirement already satisfied: cffi>=1.14 in c:\\users\\aischool\\anaconda3\\lib\\site-packages (from trio~=0.17->selenium==4.0.0) (1.15.0)\n",
      "Requirement already satisfied: sortedcontainers in c:\\users\\aischool\\anaconda3\\lib\\site-packages (from trio~=0.17->selenium==4.0.0) (2.4.0)\n",
      "Requirement already satisfied: pycparser in c:\\users\\aischool\\anaconda3\\lib\\site-packages (from cffi>=1.14->trio~=0.17->selenium==4.0.0) (2.21)\n",
      "Requirement already satisfied: wsproto>=0.14 in c:\\users\\aischool\\anaconda3\\lib\\site-packages (from trio-websocket~=0.9->selenium==4.0.0) (1.1.0)\n",
      "Requirement already satisfied: certifi in c:\\users\\aischool\\anaconda3\\lib\\site-packages (from urllib3[secure]~=1.26->selenium==4.0.0) (2021.10.8)\n",
      "Requirement already satisfied: cryptography>=1.3.4 in c:\\users\\aischool\\anaconda3\\lib\\site-packages (from urllib3[secure]~=1.26->selenium==4.0.0) (3.4.8)\n",
      "Requirement already satisfied: pyOpenSSL>=0.14 in c:\\users\\aischool\\anaconda3\\lib\\site-packages (from urllib3[secure]~=1.26->selenium==4.0.0) (21.0.0)\n",
      "Requirement already satisfied: six>=1.5.2 in c:\\users\\aischool\\anaconda3\\lib\\site-packages (from pyOpenSSL>=0.14->urllib3[secure]~=1.26->selenium==4.0.0) (1.16.0)\n",
      "Requirement already satisfied: h11<1,>=0.9.0 in c:\\users\\aischool\\anaconda3\\lib\\site-packages (from wsproto>=0.14->trio-websocket~=0.9->selenium==4.0.0) (0.13.0)\n",
      "Installing collected packages: selenium\n",
      "  Attempting uninstall: selenium\n",
      "    Found existing installation: selenium 4.4.0\n",
      "    Uninstalling selenium-4.4.0:\n",
      "      Successfully uninstalled selenium-4.4.0\n",
      "Successfully installed selenium-4.0.0\n"
     ]
    }
   ],
   "source": [
    "!pip install selenium==4.0.0"
   ]
  },
  {
   "cell_type": "code",
   "execution_count": 49,
   "id": "9c2432f0",
   "metadata": {
    "scrolled": true
   },
   "outputs": [],
   "source": [
    "from selenium import webdriver as wb\n",
    "from selenium.webdriver.common.by import By\n",
    "import time\n",
    "import pandas as pd"
   ]
  },
  {
   "cell_type": "code",
   "execution_count": 53,
   "id": "23067a65",
   "metadata": {},
   "outputs": [],
   "source": [
    "# 1. 크롬브라우저를 실행\n",
    "# 1.1 페이지 이동(https://www.hsd.co.kr/menu/menu_list)\n",
    "driver = wb.Chrome()\n",
    "driver.get(\"https://www.hsd.co.kr/menu/menu_list\")"
   ]
  },
  {
   "cell_type": "code",
   "execution_count": 58,
   "id": "0bb89404",
   "metadata": {},
   "outputs": [],
   "source": [
    "# 2. 메뉴의 이름 정보를 수집\n",
    "title = driver.find_elements(By.CSS_SELECTOR,\"h4.h.fz_03\")"
   ]
  },
  {
   "cell_type": "code",
   "execution_count": 61,
   "id": "541f85de",
   "metadata": {},
   "outputs": [
    {
     "data": {
      "text/plain": [
       "'[행사] 숯불직화구이 덮밥'"
      ]
     },
     "execution_count": 61,
     "metadata": {},
     "output_type": "execute_result"
    }
   ],
   "source": [
    "title[0].text"
   ]
  },
  {
   "cell_type": "code",
   "execution_count": 62,
   "id": "35fdd485",
   "metadata": {},
   "outputs": [],
   "source": [
    "# 3. 메뉴의 가격 정보를 수집\n",
    "price = driver.find_elements(By.CSS_SELECTOR,\"div > div.item-text > div > strong\")"
   ]
  },
  {
   "cell_type": "code",
   "execution_count": 64,
   "id": "67868fd5",
   "metadata": {},
   "outputs": [
    {
     "data": {
      "text/plain": [
       "'4,900'"
      ]
     },
     "execution_count": 64,
     "metadata": {},
     "output_type": "execute_result"
    }
   ],
   "source": [
    "price[0].text"
   ]
  },
  {
   "cell_type": "code",
   "execution_count": 68,
   "id": "07ed0e3f",
   "metadata": {},
   "outputs": [
    {
     "name": "stdout",
     "output_type": "stream",
     "text": [
      "13\n",
      "13\n"
     ]
    }
   ],
   "source": [
    "# 4. 데이터의 개수가 같은지 확인\n",
    "print(len(title))\n",
    "print(len(price))"
   ]
  },
  {
   "cell_type": "code",
   "execution_count": 71,
   "id": "82649181",
   "metadata": {},
   "outputs": [],
   "source": [
    "# 더보기 버튼을 클릭\n",
    "btn = driver.find_element(By.CSS_SELECTOR,\"a.c_05\")\n",
    "btn.click()"
   ]
  },
  {
   "cell_type": "code",
   "execution_count": 73,
   "id": "21ae1068",
   "metadata": {},
   "outputs": [
    {
     "ename": "ElementNotInteractableException",
     "evalue": "Message: element not interactable\n  (Session info: chrome=104.0.5112.81)\nStacktrace:\nBacktrace:\n\tOrdinal0 [0x00DA78B3+2193587]\n\tOrdinal0 [0x00D40681+1771137]\n\tOrdinal0 [0x00C54070+802928]\n\tOrdinal0 [0x00C83533+996659]\n\tOrdinal0 [0x00C79223+954915]\n\tOrdinal0 [0x00C9D7AC+1103788]\n\tOrdinal0 [0x00C78C04+953348]\n\tOrdinal0 [0x00C9D9C4+1104324]\n\tOrdinal0 [0x00CADAE2+1170146]\n\tOrdinal0 [0x00C9D5C6+1103302]\n\tOrdinal0 [0x00C777E0+948192]\n\tOrdinal0 [0x00C786E6+952038]\n\tGetHandleVerifier [0x01050CB2+2738370]\n\tGetHandleVerifier [0x010421B8+2678216]\n\tGetHandleVerifier [0x00E317AA+512954]\n\tGetHandleVerifier [0x00E30856+509030]\n\tOrdinal0 [0x00D4743B+1799227]\n\tOrdinal0 [0x00D4BB68+1817448]\n\tOrdinal0 [0x00D4BC55+1817685]\n\tOrdinal0 [0x00D55230+1856048]\n\tBaseThreadInitThunk [0x76BF6739+25]\n\tRtlGetFullPathName_UEx [0x779C90AF+1215]\n\tRtlGetFullPathName_UEx [0x779C907D+1165]\n",
     "output_type": "error",
     "traceback": [
      "\u001b[1;31m---------------------------------------------------------------------------\u001b[0m",
      "\u001b[1;31mElementNotInteractableException\u001b[0m           Traceback (most recent call last)",
      "Input \u001b[1;32mIn [73]\u001b[0m, in \u001b[0;36m<cell line: 2>\u001b[1;34m()\u001b[0m\n\u001b[0;32m      2\u001b[0m \u001b[38;5;28;01mfor\u001b[39;00m i \u001b[38;5;129;01min\u001b[39;00m \u001b[38;5;28mrange\u001b[39m(\u001b[38;5;241m30\u001b[39m) :\n\u001b[0;32m      3\u001b[0m     btn \u001b[38;5;241m=\u001b[39m driver\u001b[38;5;241m.\u001b[39mfind_element(By\u001b[38;5;241m.\u001b[39mCSS_SELECTOR,\u001b[38;5;124m\"\u001b[39m\u001b[38;5;124ma.c_05\u001b[39m\u001b[38;5;124m\"\u001b[39m)\n\u001b[1;32m----> 4\u001b[0m     \u001b[43mbtn\u001b[49m\u001b[38;5;241;43m.\u001b[39;49m\u001b[43mclick\u001b[49m\u001b[43m(\u001b[49m\u001b[43m)\u001b[49m\n\u001b[0;32m      5\u001b[0m     time\u001b[38;5;241m.\u001b[39msleep(\u001b[38;5;241m1\u001b[39m)\n",
      "File \u001b[1;32m~\\anaconda3\\lib\\site-packages\\selenium\\webdriver\\remote\\webelement.py:88\u001b[0m, in \u001b[0;36mclick\u001b[1;34m(self)\u001b[0m\n\u001b[0;32m     83\u001b[0m \u001b[38;5;124;03m\"\"\"Submits a form.\"\"\"\u001b[39;00m\n\u001b[0;32m     84\u001b[0m form \u001b[38;5;241m=\u001b[39m \u001b[38;5;28mself\u001b[39m\u001b[38;5;241m.\u001b[39mfind_element(By\u001b[38;5;241m.\u001b[39mXPATH, \u001b[38;5;124m\"\u001b[39m\u001b[38;5;124m./ancestor-or-self::form\u001b[39m\u001b[38;5;124m\"\u001b[39m)\n\u001b[0;32m     85\u001b[0m \u001b[38;5;28mself\u001b[39m\u001b[38;5;241m.\u001b[39m_parent\u001b[38;5;241m.\u001b[39mexecute_script(\n\u001b[0;32m     86\u001b[0m     \u001b[38;5;124m\"\u001b[39m\u001b[38;5;124mvar e = arguments[0].ownerDocument.createEvent(\u001b[39m\u001b[38;5;124m'\u001b[39m\u001b[38;5;124mEvent\u001b[39m\u001b[38;5;124m'\u001b[39m\u001b[38;5;124m);\u001b[39m\u001b[38;5;124m\"\u001b[39m\n\u001b[0;32m     87\u001b[0m     \u001b[38;5;124m\"\u001b[39m\u001b[38;5;124me.initEvent(\u001b[39m\u001b[38;5;124m'\u001b[39m\u001b[38;5;124msubmit\u001b[39m\u001b[38;5;124m'\u001b[39m\u001b[38;5;124m, true, true);\u001b[39m\u001b[38;5;124m\"\u001b[39m\n\u001b[1;32m---> 88\u001b[0m     \u001b[38;5;124m\"\u001b[39m\u001b[38;5;124mif (arguments[0].dispatchEvent(e)) \u001b[39m\u001b[38;5;124m{\u001b[39m\u001b[38;5;124m arguments[0].submit() }\u001b[39m\u001b[38;5;124m\"\u001b[39m, form)\n",
      "File \u001b[1;32m~\\anaconda3\\lib\\site-packages\\selenium\\webdriver\\remote\\webelement.py:396\u001b[0m, in \u001b[0;36m_execute\u001b[1;34m(self, command, params)\u001b[0m\n\u001b[0;32m    395\u001b[0m \u001b[38;5;28;01mdef\u001b[39;00m \u001b[38;5;21mfind_elements_by_xpath\u001b[39m(\u001b[38;5;28mself\u001b[39m, xpath):\n\u001b[1;32m--> 396\u001b[0m     \u001b[38;5;124;03m\"\"\"Finds elements within the element by xpath.\u001b[39;00m\n\u001b[0;32m    397\u001b[0m \n\u001b[0;32m    398\u001b[0m \u001b[38;5;124;03m    :Args:\u001b[39;00m\n\u001b[0;32m    399\u001b[0m \u001b[38;5;124;03m     - xpath - xpath locator string.\u001b[39;00m\n\u001b[0;32m    400\u001b[0m \n\u001b[0;32m    401\u001b[0m \u001b[38;5;124;03m    Note: The base path will be relative to this element's location.\u001b[39;00m\n\u001b[0;32m    402\u001b[0m \n\u001b[0;32m    403\u001b[0m \u001b[38;5;124;03m    This will select all links under this element.\u001b[39;00m\n\u001b[0;32m    404\u001b[0m \n\u001b[0;32m    405\u001b[0m \u001b[38;5;124;03m    ::\u001b[39;00m\n\u001b[0;32m    406\u001b[0m \n\u001b[0;32m    407\u001b[0m \u001b[38;5;124;03m        myelement.find_elements_by_xpath(\".//a\")\u001b[39;00m\n\u001b[0;32m    408\u001b[0m \n\u001b[0;32m    409\u001b[0m \u001b[38;5;124;03m    However, this will select all links in the page itself.\u001b[39;00m\n\u001b[0;32m    410\u001b[0m \n\u001b[0;32m    411\u001b[0m \u001b[38;5;124;03m    ::\u001b[39;00m\n\u001b[0;32m    412\u001b[0m \n\u001b[0;32m    413\u001b[0m \u001b[38;5;124;03m        myelement.find_elements_by_xpath(\"//a\")\u001b[39;00m\n\u001b[0;32m    414\u001b[0m \n\u001b[0;32m    415\u001b[0m \u001b[38;5;124;03m    :Returns:\u001b[39;00m\n\u001b[0;32m    416\u001b[0m \u001b[38;5;124;03m     - list of WebElement - a list with elements if any was found.  An\u001b[39;00m\n\u001b[0;32m    417\u001b[0m \u001b[38;5;124;03m       empty list if not\u001b[39;00m\n\u001b[0;32m    418\u001b[0m \n\u001b[0;32m    419\u001b[0m \u001b[38;5;124;03m    :Usage:\u001b[39;00m\n\u001b[0;32m    420\u001b[0m \u001b[38;5;124;03m        ::\u001b[39;00m\n\u001b[0;32m    421\u001b[0m \n\u001b[0;32m    422\u001b[0m \u001b[38;5;124;03m            elements = element.find_elements_by_xpath(\"//div[contains(@class, 'foo')]\")\u001b[39;00m\n\u001b[0;32m    423\u001b[0m \n\u001b[0;32m    424\u001b[0m \u001b[38;5;124;03m    \"\"\"\u001b[39;00m\n\u001b[0;32m    425\u001b[0m     warnings\u001b[38;5;241m.\u001b[39mwarn(\u001b[38;5;124m\"\u001b[39m\u001b[38;5;124mfind_elements_by_* commands are deprecated. Please use find_elements() instead\u001b[39m\u001b[38;5;124m\"\u001b[39m)\n\u001b[0;32m    426\u001b[0m     \u001b[38;5;28;01mreturn\u001b[39;00m \u001b[38;5;28mself\u001b[39m\u001b[38;5;241m.\u001b[39mfind_elements(by\u001b[38;5;241m=\u001b[39mBy\u001b[38;5;241m.\u001b[39mXPATH, value\u001b[38;5;241m=\u001b[39mxpath)\n",
      "File \u001b[1;32m~\\anaconda3\\lib\\site-packages\\selenium\\webdriver\\remote\\webdriver.py:434\u001b[0m, in \u001b[0;36mWebDriver.execute\u001b[1;34m(self, driver_command, params)\u001b[0m\n\u001b[0;32m    432\u001b[0m response \u001b[38;5;241m=\u001b[39m \u001b[38;5;28mself\u001b[39m\u001b[38;5;241m.\u001b[39mcommand_executor\u001b[38;5;241m.\u001b[39mexecute(driver_command, params)\n\u001b[0;32m    433\u001b[0m \u001b[38;5;28;01mif\u001b[39;00m response:\n\u001b[1;32m--> 434\u001b[0m     \u001b[38;5;28;43mself\u001b[39;49m\u001b[38;5;241;43m.\u001b[39;49m\u001b[43merror_handler\u001b[49m\u001b[38;5;241;43m.\u001b[39;49m\u001b[43mcheck_response\u001b[49m\u001b[43m(\u001b[49m\u001b[43mresponse\u001b[49m\u001b[43m)\u001b[49m\n\u001b[0;32m    435\u001b[0m     response[\u001b[38;5;124m'\u001b[39m\u001b[38;5;124mvalue\u001b[39m\u001b[38;5;124m'\u001b[39m] \u001b[38;5;241m=\u001b[39m \u001b[38;5;28mself\u001b[39m\u001b[38;5;241m.\u001b[39m_unwrap_value(\n\u001b[0;32m    436\u001b[0m         response\u001b[38;5;241m.\u001b[39mget(\u001b[38;5;124m'\u001b[39m\u001b[38;5;124mvalue\u001b[39m\u001b[38;5;124m'\u001b[39m, \u001b[38;5;28;01mNone\u001b[39;00m))\n\u001b[0;32m    437\u001b[0m     \u001b[38;5;28;01mreturn\u001b[39;00m response\n",
      "File \u001b[1;32m~\\anaconda3\\lib\\site-packages\\selenium\\webdriver\\remote\\errorhandler.py:243\u001b[0m, in \u001b[0;36mErrorHandler.check_response\u001b[1;34m(self, response)\u001b[0m\n\u001b[0;32m    241\u001b[0m         alert_text \u001b[38;5;241m=\u001b[39m value[\u001b[38;5;124m'\u001b[39m\u001b[38;5;124malert\u001b[39m\u001b[38;5;124m'\u001b[39m]\u001b[38;5;241m.\u001b[39mget(\u001b[38;5;124m'\u001b[39m\u001b[38;5;124mtext\u001b[39m\u001b[38;5;124m'\u001b[39m)\n\u001b[0;32m    242\u001b[0m     \u001b[38;5;28;01mraise\u001b[39;00m exception_class(message, screen, stacktrace, alert_text)  \u001b[38;5;66;03m# type: ignore[call-arg]  # mypy is not smart enough here\u001b[39;00m\n\u001b[1;32m--> 243\u001b[0m \u001b[38;5;28;01mraise\u001b[39;00m exception_class(message, screen, stacktrace)\n",
      "\u001b[1;31mElementNotInteractableException\u001b[0m: Message: element not interactable\n  (Session info: chrome=104.0.5112.81)\nStacktrace:\nBacktrace:\n\tOrdinal0 [0x00DA78B3+2193587]\n\tOrdinal0 [0x00D40681+1771137]\n\tOrdinal0 [0x00C54070+802928]\n\tOrdinal0 [0x00C83533+996659]\n\tOrdinal0 [0x00C79223+954915]\n\tOrdinal0 [0x00C9D7AC+1103788]\n\tOrdinal0 [0x00C78C04+953348]\n\tOrdinal0 [0x00C9D9C4+1104324]\n\tOrdinal0 [0x00CADAE2+1170146]\n\tOrdinal0 [0x00C9D5C6+1103302]\n\tOrdinal0 [0x00C777E0+948192]\n\tOrdinal0 [0x00C786E6+952038]\n\tGetHandleVerifier [0x01050CB2+2738370]\n\tGetHandleVerifier [0x010421B8+2678216]\n\tGetHandleVerifier [0x00E317AA+512954]\n\tGetHandleVerifier [0x00E30856+509030]\n\tOrdinal0 [0x00D4743B+1799227]\n\tOrdinal0 [0x00D4BB68+1817448]\n\tOrdinal0 [0x00D4BC55+1817685]\n\tOrdinal0 [0x00D55230+1856048]\n\tBaseThreadInitThunk [0x76BF6739+25]\n\tRtlGetFullPathName_UEx [0x779C90AF+1215]\n\tRtlGetFullPathName_UEx [0x779C907D+1165]\n"
     ]
    }
   ],
   "source": [
    "# 더보기 버튼을 반복해서 실행(for)\n",
    "for i in range(30) :\n",
    "    btn = driver.find_element(By.CSS_SELECTOR,\"a.c_05\")\n",
    "    btn.click()\n",
    "    time.sleep(1)"
   ]
  },
  {
   "cell_type": "markdown",
   "id": "ec67ca10",
   "metadata": {},
   "source": [
    "# 예외처리 \n",
    "## try except\n",
    "- try : 반복해서 시도할 코드를 적는 공간(오류가 나기전까지)\n",
    "- except : 오류가 발생했을때 실행할 코드를 적는 공간\n"
   ]
  },
  {
   "cell_type": "code",
   "execution_count": 74,
   "id": "a8398f9c",
   "metadata": {
    "scrolled": true
   },
   "outputs": [
    {
     "name": "stdout",
     "output_type": "stream",
     "text": [
      "더보기 종료\n"
     ]
    }
   ],
   "source": [
    "try : \n",
    "    # 오류가 나기 전까지 실행할 코드\n",
    "    for i in range(30) :\n",
    "        btn = driver.find_element(By.CSS_SELECTOR,\"a.c_05\")\n",
    "        btn.click()\n",
    "        time.sleep(1)\n",
    "except :\n",
    "    # 오류가 났을때 실행할 코드\n",
    "    print(\"더보기 종료\")"
   ]
  },
  {
   "cell_type": "code",
   "execution_count": 75,
   "id": "b1225398",
   "metadata": {},
   "outputs": [
    {
     "name": "stdout",
     "output_type": "stream",
     "text": [
      "더보기 종료\n"
     ]
    }
   ],
   "source": [
    "driver = wb.Chrome()\n",
    "driver.get(\"https://www.hsd.co.kr/menu/menu_list\")\n",
    "time.sleep(1)\n",
    "\n",
    "try : \n",
    "    for i in range(30) :\n",
    "        btn = driver.find_element(By.CSS_SELECTOR,\"a.c_05\")\n",
    "        btn.click()\n",
    "        time.sleep(1)\n",
    "except :\n",
    "    print(\"더보기 종료\")\n",
    "\n",
    "title = driver.find_elements(By.CSS_SELECTOR,\"h4.h.fz_03\")\n",
    "price = driver.find_elements(By.CSS_SELECTOR,\"div > div.item-text > div > strong\")"
   ]
  },
  {
   "cell_type": "code",
   "execution_count": 76,
   "id": "6159342d",
   "metadata": {},
   "outputs": [],
   "source": [
    "# 순수한 글자정보만 담긴 리스트 제작\n",
    "titleList = []\n",
    "priceList = []\n",
    "for i in range(len(title)) : \n",
    "    titleList.append(title[i].text)\n",
    "    priceList.append(price[i].text)"
   ]
  },
  {
   "cell_type": "code",
   "execution_count": 77,
   "id": "1306b04d",
   "metadata": {},
   "outputs": [],
   "source": [
    "# 데이터프레임 제작\n",
    "# - dic형태의 데이터를 제작\n",
    "dic = {\"메뉴이름\" : titleList, \"가격\" : priceList}"
   ]
  },
  {
   "cell_type": "code",
   "execution_count": 78,
   "id": "64207f03",
   "metadata": {},
   "outputs": [],
   "source": [
    "hans = pd.DataFrame(dic)"
   ]
  },
  {
   "cell_type": "code",
   "execution_count": 79,
   "id": "c520443f",
   "metadata": {},
   "outputs": [],
   "source": [
    "# 데이터프레임을 한글이 깨지지 않게 csv파일로 저장\n",
    "hans.to_csv(\"한솥데이터.csv\",encoding=\"euc-kr\",index=False)"
   ]
  },
  {
   "cell_type": "code",
   "execution_count": null,
   "id": "181917ec",
   "metadata": {},
   "outputs": [],
   "source": []
  },
  {
   "cell_type": "code",
   "execution_count": null,
   "id": "b90da6b0",
   "metadata": {},
   "outputs": [],
   "source": []
  },
  {
   "cell_type": "code",
   "execution_count": null,
   "id": "392f96d9",
   "metadata": {},
   "outputs": [],
   "source": []
  },
  {
   "cell_type": "code",
   "execution_count": null,
   "id": "fe0890f6",
   "metadata": {},
   "outputs": [],
   "source": []
  }
 ],
 "metadata": {
  "kernelspec": {
   "display_name": "Python 3 (ipykernel)",
   "language": "python",
   "name": "python3"
  },
  "language_info": {
   "codemirror_mode": {
    "name": "ipython",
    "version": 3
   },
   "file_extension": ".py",
   "mimetype": "text/x-python",
   "name": "python",
   "nbconvert_exporter": "python",
   "pygments_lexer": "ipython3",
   "version": "3.9.12"
  }
 },
 "nbformat": 4,
 "nbformat_minor": 5
}
